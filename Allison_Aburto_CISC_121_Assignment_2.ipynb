{
  "cells": [
    {
      "cell_type": "markdown",
      "metadata": {
        "id": "view-in-github",
        "colab_type": "text"
      },
      "source": [
        "<a href=\"https://colab.research.google.com/github/allisonqueensuniversity/CISC121/blob/main/Allison_Aburto_CISC_121_Assignment_2.ipynb\" target=\"_parent\"><img src=\"https://colab.research.google.com/assets/colab-badge.svg\" alt=\"Open In Colab\"/></a>"
      ]
    },
    {
      "cell_type": "markdown",
      "metadata": {
        "id": "MRScbkLTN3Mc"
      },
      "source": [
        "# **CISC 121 - Section 001 – Assignment 2**\n",
        "*Please copy this notebook to your own drive (File -> Save a copy in Drive) and work from there.*"
      ]
    },
    {
      "cell_type": "markdown",
      "metadata": {
        "id": "87bcdc76"
      },
      "source": [
        "## Part 1\n",
        "### Solve all the 3 problems folloowing the template\n",
        "\n",
        "1. **Sum of Two Integers** — <https://leetcode.com/problems/sum-of-two-integers>\n",
        "2. **Convert Date to Binary** — <https://leetcode.com/problems/convert-date-to-binary>\n",
        "3. **Number of 1 Bits** — <https://leetcode.com/problems/number-of-1-bits>"
      ]
    },
    {
      "cell_type": "markdown",
      "metadata": {
        "id": "f960a31d"
      },
      "source": [
        "## Part 2\n",
        "### Solve 2 of the 3 problems from the followings following the given template\n",
        "\n",
        "1. **Reverse Integer** — <https://leetcode.com/problems/reverse-integer>\n",
        "2. **Reverse String** — <https://leetcode.com/problems/reverse-string>\n",
        "3. **Reverse Pairs** — <https://leetcode.com/problems/reverse-pairs>\n",
        "\n",
        "### Note: the problems are ordered by difficulty."
      ]
    },
    {
      "cell_type": "markdown",
      "metadata": {
        "id": "KGKqcY70N3Md"
      },
      "source": [
        "\n",
        "\n",
        "1. Your Name: Allison Aburto\n",
        "2. Section: CISC121 001\n",
        "3. ID:20530408\n",
        "4. Github or Colab link of this notebook:\n",
        "5. Links to Chats: N/A\n"
      ]
    },
    {
      "cell_type": "markdown",
      "metadata": {
        "id": "creP6zY2Q96V"
      },
      "source": [
        "\n",
        "\n",
        "---\n",
        "\n"
      ]
    },
    {
      "cell_type": "markdown",
      "source": [
        "## **Errors and Exceptions:**\n",
        "For errors and exceptions, I used the following pages for help:\n",
        "https://docs.python.org/3/tutorial/errors.html\n",
        "https://stackoverflow.com/questions/33962267/python-return-error-from-function"
      ],
      "metadata": {
        "id": "-4xrOVCV23Gg"
      }
    },
    {
      "cell_type": "markdown",
      "metadata": {
        "id": "qWjPfgsYcVSm"
      },
      "source": [
        "#  Problem 1 (DSA): Sum of Two Integers\n",
        "\n",
        "\n"
      ]
    },
    {
      "cell_type": "markdown",
      "metadata": {
        "id": "S5j4P37ucVSn"
      },
      "source": [
        "\n",
        "\n",
        "## 1. Understanding & Breakdown\n",
        "\n",
        "I am somehow going to add two integers and return the sum (also an integer). I think I will use the .append() function and then the .len() function to make and determine the length of a list structure.\n",
        "\n",
        "Two potentially similar programs would be one that determines the number of a specific element in a list, and one that multiplies with 2d arrays. One that determines the number of elements in a list would also use a for loop to go through an array, but would be looking through existing elements to count them instead of adding elements to later count. Multiplication with a 2d array would also add elements to an array with for loops instead of directly multiplying, but would be multiplying instead of adding, and using a 2d array instead of a basic list."
      ]
    },
    {
      "cell_type": "markdown",
      "metadata": {
        "id": "3gFayJhecVSo"
      },
      "source": [
        "## 2. Peer Review & Draft Code\n",
        "\n",
        "**Review Guidance:**  \n",
        "\n",
        "Visit the **\"Solutions\"** tab on LeetCode (the provided link above) for the selected problem and review at least one top-rated solution. You may also search for relevant discussions or Q&A threads on **Stack Overflow** or other forums to understand how others approached the problem.\n",
        "\n",
        "Then, write your own version based on what you understood. The goal is not to copy but to apply what you learned. Always include links to the resources you reviewed.\n",
        "\n",
        "---\n"
      ]
    },
    {
      "cell_type": "code",
      "execution_count": null,
      "metadata": {
        "colab": {
          "base_uri": "https://localhost:8080/"
        },
        "id": "mDQovJ1icVSo",
        "outputId": "b0e6f277-52c7-4858-ace8-be5d01b64b22"
      },
      "outputs": [
        {
          "output_type": "stream",
          "name": "stdout",
          "text": [
            "3\n"
          ]
        }
      ],
      "source": [
        "def getSum(a,b):\n",
        "  c=[]\n",
        "  for i in range(a):\n",
        "    c.append(\"a\")\n",
        "  for i in range (b):\n",
        "    c.append(\"b\")\n",
        "  return len(c)\n",
        "\n",
        "print(getSum(1,2))"
      ]
    },
    {
      "cell_type": "markdown",
      "metadata": {
        "id": "DMKZr_5ecVSp"
      },
      "source": [
        "---\n"
      ]
    },
    {
      "cell_type": "markdown",
      "metadata": {
        "id": "YXXZAW2bcVSq"
      },
      "source": [
        "## 3. Final Correct Code\n",
        "\n",
        "_This version must pass all required test cases and handle edge cases correctly. Please provide screenshots from Leetcode_\n",
        "\n",
        "At this stage, you may:\n",
        "- Review solutions using AI tools (e.g., ChatGPT, GitHub Copilot) to add ***comments*** and error handeling, refine, improve, and if there are any, fix errors.\n",
        "    -   Tip: Use PROMPT and CoT methods\n",
        "- Refactor your draft to ensure accuracy, completeness, follow the Code Review checklist.\n",
        "\n",
        "### Don't forget to add comments!\n",
        "\n",
        " **AI Level 4 is allowed**, but you **must include a disclaimer** that clearly states what tools you used, how you used them, and for which part of the code.\n",
        "\n",
        "--------------"
      ]
    },
    {
      "cell_type": "code",
      "execution_count": 112,
      "metadata": {
        "id": "tnxaneYIcVSq",
        "colab": {
          "base_uri": "https://localhost:8080/"
        },
        "outputId": "05976036-dc54-47eb-9bbb-bc4a27ce112a"
      },
      "outputs": [
        {
          "output_type": "stream",
          "name": "stdout",
          "text": [
            "Input: a=2\n",
            "Input: b=3\n",
            "Output: 5\n"
          ]
        }
      ],
      "source": [
        "# Final working solution\n",
        "def getSum(a,b):\n",
        "  if type(a)!=int or type(b)!=int:\n",
        "    raise TypeError(\"Either A or B is not an integer\")\n",
        "  if -1000>a or b>1000:\n",
        "    raise ValueError(\"A must be above or equal to -1000 and B must be below or equal to 1000\")\n",
        "\n",
        "  aIsPositive=True\n",
        "  bIsPositive=True\n",
        "  sumIsPositive=True\n",
        "  if a<0: #If a is negative\n",
        "    aIsPositive=False\n",
        "  if b<0: #If b is negative\n",
        "    bIsPositive=False\n",
        "\n",
        "  if (abs(a)>abs(b) and not aIsPositive) or (abs(b)>abs(a) and not bIsPositive) or not (aIsPositive and bIsPositive): #Determines whether the end sum will be positive or negative\n",
        "    sumIsPositive=False\n",
        "\n",
        "  largerNumber=abs(b)\n",
        "  smallerNumber=abs(a)\n",
        "  if abs(a)>abs(b): #sets largerNumber to the absolute value of \"a\" and smallerNumber to the absolute value of \"b\" if \"a\" has a larger absolute value\n",
        "    largerNumber=abs(a)\n",
        "    smallerNumber=abs(b)\n",
        "\n",
        "  c=[]\n",
        "  for i in range(largerNumber): #Appends the list by the larger number of elements\n",
        "    c.append(\"a\")\n",
        "  for i in range(smallerNumber):\n",
        "    if aIsPositive==bIsPositive: #Adding the absolute value of the smaller number\n",
        "      c.append(\"b\")\n",
        "    else: #Subtracting the absolute value of the smaller number\n",
        "      c.pop()\n",
        "\n",
        "  if sumIsPositive:\n",
        "    return len(c)\n",
        "  return len(c)*(-1) #If the sum is negative this multiplies it to make the output negative\n",
        "\n",
        "print(\"Output: \"+str(getSum(int(input(\"Input: a=\")),int(input(\"Input: b=\")))))"
      ]
    },
    {
      "cell_type": "markdown",
      "metadata": {
        "id": "ekltnDXYcVSr"
      },
      "source": [
        "Add the screenshot of output for all the test cases from your working solutions."
      ]
    },
    {
      "cell_type": "markdown",
      "source": [
        "![Screenshot 2025-10-12 211551.png](data:image/png;base64,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)![Screenshot 2025-10-12 211609.png](data:image/png;base64,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)"
      ],
      "metadata": {
        "id": "DegPeJZJI_kX"
      }
    },
    {
      "cell_type": "markdown",
      "metadata": {
        "id": "Cxz4VGxkcVSr"
      },
      "source": [
        "---"
      ]
    },
    {
      "cell_type": "markdown",
      "metadata": {
        "id": "r-3c25lecVSr"
      },
      "source": [
        "## 4. Review & Fixes\n",
        "\n",
        "_What did you improve, optimize from your draft? 2 fixes with your comments._\n",
        "\n",
        "If there is no imporvments possible, please describe how the final version meets all the Code Review Checklist items\n",
        "\n",
        "-------\n",
        "\n"
      ]
    },
    {
      "cell_type": "code",
      "execution_count": null,
      "metadata": {
        "id": "AhjZsDUvcVSs"
      },
      "outputs": [],
      "source": [
        "# Fix 1:\n",
        "\n",
        "# Draft version (no handling of negative numbers)\n",
        "def getSum(a,b):\n",
        "  ...\n",
        "  return len(c)\n",
        "# Fixed version (properly takes the input of negative numbers and returns negative numbers)\n",
        "aIsPositive=True\n",
        "  bIsPositive=True\n",
        "  sumIsPositive=True\n",
        "  if a<0: #If a is negative\n",
        "    aIsPositive=False\n",
        "  if b<0: #If b is negative\n",
        "    bIsPositive=False\n",
        "\n",
        "  ...\n",
        "\n",
        "  if sumIsPositive:\n",
        "    return len(c)\n",
        "  return len(c)*(-1) #If the sum is negative this multiplies it to make the output negative"
      ]
    },
    {
      "cell_type": "code",
      "execution_count": null,
      "metadata": {
        "id": "jEJBzI_4cVSs"
      },
      "outputs": [],
      "source": [
        "# Fix 2:\n",
        "\n",
        "# Draft version (Only adding is considered in the appending of integers):\n",
        "  for i in range(a):\n",
        "    c.append(\"a\")\n",
        "  for i in range (b):\n",
        "    c.append(\"b\")\n",
        "\n",
        "# Fixed version (Finds the larger and smaller numbers for subtraction via removal (just appends if they're both positive/negative)):\n",
        "  largerNumber=abs(b)\n",
        "  smallerNumber=abs(a)\n",
        "  if abs(a)>abs(b): #sets largerNumber to the absolute value of \"a\" and smallerNumber to the absolute value of \"b\" if \"a\" has a larger absolute value\n",
        "    largerNumber=abs(a)\n",
        "    smallerNumber=abs(b)\n",
        "\n",
        "  for i in range(largerNumber): #Appends the list by the larger number of elements\n",
        "    c.append(\"a\")\n",
        "  for i in range(smallerNumber):\n",
        "    if aIsPositive==bIsPositive: #Adding the absolute value of the smaller number\n",
        "      c.append(\"b\")\n",
        "    else: #Subtracting the absolute value of the smaller number\n",
        "      c.pop()"
      ]
    },
    {
      "cell_type": "markdown",
      "metadata": {
        "id": "zyHluY00cVSt"
      },
      "source": [
        "---"
      ]
    },
    {
      "cell_type": "markdown",
      "metadata": {
        "id": "KpLPrA-icVSt"
      },
      "source": [
        "\n",
        "## 5. Reflection on Your Contribution\n",
        "_Where did AI or Other's code helped or fail to help? What specific logic or debugging did you contribute yourself?_\n",
        "\n",
        "## Example\n",
        "1. I used ChatGPT (Level 4) to help identify an edge case where my draft code failed when the input string started with a closing bracket. I also used ChatGPT to help structure the final loop and mapping dictionary, but verified all logic myself by tracing the code.\n",
        "\n",
        "2.  I used ChatGPT to help write the loop. But the code had an indentation error after the `if` block, which caused it to fail. I fixed the spacing and made sure the code runs correctly.\n",
        "\n",
        "3. I used opensource code from Github. I found and fixed a logic bug where they used if s[i] == '(' or ')', which always returned True. I corrected it to properly check both conditions.\n"
      ]
    },
    {
      "cell_type": "markdown",
      "metadata": {
        "id": "AxxCiuXlBfSj"
      },
      "source": [
        "## Your answer:\n",
        "\n",
        "------"
      ]
    },
    {
      "cell_type": "markdown",
      "metadata": {
        "id": "xJk7l_CmRSQ9"
      },
      "source": [
        "-> I did not use ChatGPT or any external help to complete this program.\n",
        "\n"
      ]
    },
    {
      "cell_type": "markdown",
      "metadata": {
        "id": "w2X7eha_N3Mg"
      },
      "source": [
        "-----------"
      ]
    },
    {
      "cell_type": "markdown",
      "metadata": {
        "id": "rAwLuBzFZxf3"
      },
      "source": [
        "#  Problem 2 (DSA): Convert Date to Binary\n",
        "\n",
        "\n"
      ]
    },
    {
      "cell_type": "markdown",
      "metadata": {
        "id": "r9EKMWjKIQP3"
      },
      "source": [
        "\n",
        "\n",
        "## 1. Understanding & Breakdown\n",
        "\n",
        "I am converting a string in the format \"yyyy-mm-dd\" format to 3 integer variables (or a 3 integer tuple) to 3 binary string variables (or a 3 string tuple) to a string in the format \"y-m-d\" where y, m, and d are their binary equivalents. I will use the bin() operator I use in question 3, and I will potetntially use the for operator in seperating the original string. I will likely use the tuple to store the seperated year, month and day because it will hold them in the same place while minimizing the number of variables.\n",
        "\n",
        "Two similar ideas would be a program that converts one date format to another and a translation program. A date conversion program would also take apart the date string and put it back together, but it would not convert the numbers to binary and it would rearrange the year, month, and day. A translation program would also replace numbers/words with translated equivalents, but it would separate the words differently and consider the whole sentence when translating one word."
      ]
    },
    {
      "cell_type": "markdown",
      "metadata": {
        "id": "aUHzVrY4cTX0"
      },
      "source": [
        "## 2. Peer Review & Draft Code\n",
        "\n",
        "**Review Guidance:**  \n",
        "\n",
        "Visit the **\"Solutions\"** tab on LeetCode (the provided link above) for the selected problem and review at least one top-rated solution. You may also search for relevant discussions or Q&A threads on **Stack Overflow** or other forums to understand how others approached the problem.\n",
        "\n",
        "Then, write your own version based on what you understood. The goal is not to copy but to apply what you learned. Always include links to the resources you reviewed.\n",
        "\n",
        "---\n"
      ]
    },
    {
      "cell_type": "code",
      "execution_count": null,
      "metadata": {
        "id": "NPk65D2zciQV",
        "colab": {
          "base_uri": "https://localhost:8080/"
        },
        "outputId": "2574c713-4946-4bb5-ccd2-e154d76395f3"
      },
      "outputs": [
        {
          "output_type": "stream",
          "name": "stdout",
          "text": [
            "11111011011-11-100\n"
          ]
        }
      ],
      "source": [
        "def convertDateToBinary(date):\n",
        "  #Same source as question 3 for usage of bin(), https://stackoverflow.com/questions/10411085/converting-integer-to-binary-in-python\n",
        "  return bin(int(str(date[0])+str(date[1])+str(date[2])+str(date[3])))[2:]+\"-\"+bin(int(str(date[5])+str(date[6])))[2:]+\"-\"+bin(int(str(date[8])+str(date[9])))[2:]\n",
        "\n",
        "print(convertDateToBinary(\"2011-03-04\"))"
      ]
    },
    {
      "cell_type": "markdown",
      "metadata": {
        "id": "8R0ItLfmRKxp"
      },
      "source": [
        "---\n"
      ]
    },
    {
      "cell_type": "markdown",
      "metadata": {
        "id": "Om2fMRWLceyo"
      },
      "source": [
        "## 3. Final Correct Code\n",
        "\n",
        "_This version must pass all required test cases and handle edge cases correctly. Please provide screenshots from Leetcode_\n",
        "\n",
        "At this stage, you may:\n",
        "- Review solutions using AI tools (e.g., ChatGPT, GitHub Copilot) to add ***comments*** and error handeling, refine, improve, and if there are any, fix errors.\n",
        "    -   Tip: Use PROMPT and CoT methods\n",
        "- Refactor your draft to ensure accuracy, completeness, follow the Code Review checklist.\n",
        "\n",
        "### Don't forget to add comments!\n",
        "\n",
        " **AI Level 4 is allowed**, but you **must include a disclaimer** that clearly states what tools you used, how you used them, and for which part of the code.\n",
        "\n",
        "--------------"
      ]
    },
    {
      "cell_type": "code",
      "execution_count": 114,
      "metadata": {
        "id": "CukQ_t3xcuDV",
        "colab": {
          "base_uri": "https://localhost:8080/"
        },
        "outputId": "e3e8f66a-21ef-4ea0-cbb6-1bc8a4b33b46"
      },
      "outputs": [
        {
          "output_type": "stream",
          "name": "stdout",
          "text": [
            "Input: 2080-02-29\n",
            "100000100000-10-11101\n"
          ]
        }
      ],
      "source": [
        "# Final working solution\n",
        "def binConv(number): #(Binary Conversion)\n",
        "  return bin(number)[2:] #Same source as question 3, https://stackoverflow.com/questions/10411085/converting-integer-to-binary-in-python\n",
        "\n",
        "def convertDateToBinary(date):\n",
        "  if type(date)!=str: #If the input is not a string\n",
        "    raise TypeError(\"Input must be a string\")\n",
        "  if len(date)!=10: #If the string is not 10 characters long\n",
        "    raise ValueError(\"String must be 10 characters long\")\n",
        "  for i in range(10):\n",
        "    if i==4 or i==7: #Checks if the dash elements of the string are dashes\n",
        "      if date[i]!=\"-\":\n",
        "        raise ValueError(\"Input must be in the form yyyy-mm-dd\")\n",
        "    else: #Checks if the integer elements of the string are integers\n",
        "      try:\n",
        "        int(date[i])\n",
        "      except ValueError:\n",
        "        raise ValueError(\"Input must be in the form yyyy-mm-dd where y, m, and d are integers\")\n",
        "  if not (1900<=int(date[0]+date[1]+date[2]+date[3])<=2100 and 0<int(date[5]+date[6])<13 and 0<int(date[8]+date[9])<32): #checks if the date is valid\n",
        "    raise ValueError(\"Must be a valid date\") #Pretend all months have 31 days\n",
        "\n",
        "  dateBinary=[\"\",\"\",\"\"]\n",
        "\n",
        "  dateBinary[0]=binConv(int(str(date[0])+str(date[1])+str(date[2])+str(date[3]))) #Year in binary\n",
        "  dateBinary[1]=binConv(int(str(date[5])+str(date[6]))) #Month in binary\n",
        "  dateBinary[2]=binConv(int(str(date[8])+str(date[9]))) #Day in binary\n",
        "\n",
        "  return dateBinary[0]+\"-\"+dateBinary[1]+\"-\"+dateBinary[2] #Puts the binary date in y-m-d format\n",
        "\n",
        "print(convertDateToBinary(input(\"Input: \")))"
      ]
    },
    {
      "cell_type": "markdown",
      "metadata": {
        "id": "n-a6rKrlUyQP"
      },
      "source": [
        "Add the screenshot of output for all the test cases from your working solutions."
      ]
    },
    {
      "cell_type": "markdown",
      "source": [
        "![Screenshot 2025-10-12 211739.png](data:image/png;base64,iVBORw0KGgoAAAANSUhEUgAAAMUAAABUCAYAAAAyAvMWAAAAAXNSR0IArs4c6QAAAARnQU1BAACxjwv8YQUAAAAJcEhZcwAADsMAAA7DAcdvqGQAAAjlSURBVHhe7dw/SBvvHwfwd39bcHJRCIpFIuiQG0rb9ETQgg4VWgpCXKWllFLskAwOhQzBDqFkqZAgFZFmslAoCGZIhghiiO3wJaF0MJRAREgWHTwc7zd8e8fdR2Of2LPGb98vyOD9+zx5cu/L3Zl7bpimaYKIbP+TE4j+dgwFkcBQEAkMBZHAUBAJN46Ojnj3icjhBm/JErnx9IlIYCiIBIaCSGAoiASGgkhgKIgEhoJIYCiIBIaCSGAoiASGgkhgKIiE/0wootEoZmdnYRiGnEXUFuVQRKNR3Lx589RrZGQElUpFLv5XqFQqGBkZObcP8vm8q7+i0ahcBDijf9PptFwEzWYTo6OjnvW9Sk043sPo6Ciazaacrayd9ntV80LMNjUaDVPXdTOVSslZVyoSiZjhcNg8Pj6Wszx3fHxshsNhMxwOm2/fvjWHh4fNcrksFzNTqZRrnnM9q53WNF3XzUajYZqmaeZyOXNgYMDVx+Vy2RweHjYjkYg9LRKJtKx9HtWa1mcdiUTMSCTiWr5dqu33suZFeRqKcrls3rt3zyyXy2YkEjEHBgbMgYGBUztrKpUyw+Gw+ePHD1PXdXu5sz4QWSeVStkdZXW0tb58ybpmiw+nXZFIxG6X3PEtVp1cLueabu181vRcLnfm+s73abYIvbVzt/teVGpa27ba+bs7qEr7va55UcqnT6qOjo7w8OFDBAIB1Go17O7uol6vIxaLuZYrlUq4f/8+4vE4arUaVlZWkEgkkM/nXcudJxgM4vv376jVapiZmUEoFMK3b99Qq9VQq9Wwvr6Orq4u1zrb29s4OTlBsVi88NdyMpnEixcv5GSXRqMBAOjt7XVN1zQNfr8fe3t7AIBsNgtN0zA4OGgv02w2kclkcHBwgHK5jGaziWKxiImJCdf7KRaLKJVKbb8XlZpdXV1YX1/H5OSka92LUG2/lzV/h+ehAICZmRl7p+np6YGu69jf3z91EbyysmJ3gK7rCIVCyGazrmW8NjY2Bp/PB13X0dPTI2d7xgqDFQ6pWq3CMAzs7++jr6/P3lkqlQrGx8fx8uVLOzyNRgOHh4cYGhqy10+n04jFYnjz5g0ODw9b1pFUa3rJy/b/CZcSigcPHshJp/j9fmiaZv/d1dWFvr6+M8PjJevbJZlMylmeGhwchKZpiMVirqN4IpHAwcGBa1lLOp3G8+fPsbW1hampKTkb+LlTz87OolqtYmdn59Q3UbtUanrJ6/ZfhksJBf0b8tXVVfT39+Pu3bv2HZdbt27B7/cjEAi4lo9GoygUCsjlci2/wRqNBqampjAxMdEy1NYdMeddpVZ3cFRqqlCtqdL+TsBQXCLrHNm6xqnVatA0zT6VsL4dP336BACuayDnKUdvby+6u7vx+vVrxONx1/XM3t4euru77SOu8zrLeu3s7Ng7vWrNdvyqZjvt7wQdE4pWF2NOhmGgUCjIyQCAQCCAer3+y1Mv66jW6v8Fl217exuapkHXdeDnqabP58Pc3Nyp5bq7u6Fpmn1dFgqF7PXg6I92r49UanrJ6/Zfto4JRSKRAH5epOPnEa2/vx+FQgGGYcAwDDx58gSlUkms+a+hoSEcHBzYR8BWvLj7dBHWuXQmk8HS0pIdfF3XoWkaFhcX7UDn83kkEgnE43F7Z5mbm0O5XMaHDx/sbcZiMdTrdSwsLNjTVKjW9JKX7b908h5tK87/Ozhfzvvdre7Ny3vUqVTq1HbkPWzT8b8Ka5lUKmXmcrmW967lds/aphf/p5B1WtWUfSb/52Kx7s87l5V9aDrabi3Tqh9UqNSU7Xe+LtJ/Ku33uuZFXMlgaOl0GplMBp8/f76UoxLR7+iY0yeiTsFQEAkMBZFwJdcURJ2M3xREAkNBJDAURAJDQSQwFEQCQ0EktB0KlVEWrB+/nTdCBBRHw0in067f6bf6datqTZX2q9ZUaT8Ua6qMrNFsYzQMFap9psp6D63667pQDoX1gWSzWfuXrGdJp9O4ffs2Hj16BJ/PJ2cDjg9jcXERT58+lbNt0WgU7969w8bGBmq1GjY2NrC5uXmq01VqqrZfpaZq+1VqWtsqFovY3d11Pa/u3FGtR0Z1XbefWZienkY4HL5QMFT6TJUVeusBqutOKRSGYWB+fh7xePzcJ6by+TwKhQK+fv167m/yY7EYJiYmzhxYwFKpVLC5uYmlpSUEg0Hg58MsS0tL2NzctHcElZqq7VetqdJ+1ZrFYhHlchnLy8v2jyMnJyexsLCATCZjf7Osra1B0zTE43F73Xg8Dk3TsLa2Zk9TodJnqiqVCpLJJHZ3d//I46x/glIoVEdZmJycPHdHsaiMhnHWAy+GYeD9+/c4OTnB9vY2oFhTtf2qNVXar1pTZWSNVg9gydEwVKn0mapgMIhsNvuf+rWzUiiuQrVaRX9/v/3BNZtNTE1N4c6dOwiFQqhWq3KV3/anaxqKI2uc9ZhoJ4+Gcd11bCic8vk8xsfHsby8/MsjtFeuoqbKyBrWNUgnj4Zx3XV8KKwj4tbWln2ef9muoqbKyBoqo2Gojqyhwnl3yvlqZ8C666hjQxEIBFAqlfDlyxfXjmIYBur1+qkhYrzwp2t2KY6s0c5oGL8aWaMd1nWRc1u1Wu2X10nXXceGwhrJ79mzZ64LwnK5jMPDQ4yNjbmW98JV1FQZWeO6jYZx3XVsKILBIKanp10j7FUqFczPz+PVq1eXclpzFTVVR9a4VqNhXHPKDxlFo9GWw8fMzMwgmUyiUqkgHA7j5ORELgKfz4ePHz8iGAwinU7bQ9pIoVAIq6ur9pFa1l1YWHCdPqjWlNtxstpvkcvKmqrtl9txctY0zhi+xznOrkW+V7/ff6HBH+R2nJx9pqLZbOLx48cthwI96310OuVQEP0tOvb0ieiqMBREAkNBJDAURAJDQSQwFEQCQ0EkMBREAkNBJDAURAJDQSQwFEQCQ0EkMBREAkNBJDAURAJDQSTc6Jr9h0/eETnwm4JI4DPaRAK/KYgEhoJIYCiIBIaCSGAoiASGgkhgKIgEhoJIYCiIhP8Dl1TuMBbq88YAAAAASUVORK5CYII=)\n",
        "\n",
        "![Screenshot 2025-10-12 212034.png](data:image/png;base64,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)"
      ],
      "metadata": {
        "id": "AtDeYVs7JS79"
      }
    },
    {
      "cell_type": "markdown",
      "metadata": {
        "id": "CSVCLsPgROHs"
      },
      "source": [
        "---"
      ]
    },
    {
      "cell_type": "markdown",
      "metadata": {
        "id": "fJrDhzvMcxVN"
      },
      "source": [
        "## 4. Review & Fixes\n",
        "\n",
        "_What did you improve, optimize from your draft? 2 fixes with your comments._\n",
        "\n",
        "If there is no imporvments possible, please describe how the final version meets all the Code Review Checklist items\n",
        "\n",
        "-------\n",
        "\n"
      ]
    },
    {
      "cell_type": "code",
      "execution_count": null,
      "metadata": {
        "id": "tzEAjBgfMtod"
      },
      "outputs": [],
      "source": [
        "# Fix 1:\n",
        "\n",
        "# Draft version (Returns it all in one line, hard to read or edit)\n",
        "  return bin(int(str(date[0])+str(date[1])+str(date[2])+str(date[3])))[2:]+\"-\"+bin(int(str(date[5])+str(date[6])))[2:]+\"-\"+bin(int(str(date[8])+str(date[9])))[2:]\n",
        "# Fixed version (More readable and easier to edit (still has some redundancy but I couldn't figure out how to make it less redundant))\n",
        "  dateBinary=[\"\",\"\",\"\"]\n",
        "\n",
        "  dateBinary[0]=binConv(int(str(date[0])+str(date[1])+str(date[2])+str(date[3])))\n",
        "  dateBinary[1]=binConv(int(str(date[5])+str(date[6])))\n",
        "  dateBinary[2]=binConv(int(str(date[8])+str(date[9])))\n",
        "\n",
        "  return dateBinary[0]+\"-\"+dateBinary[1]+\"-\"+dateBinary[2]"
      ]
    },
    {
      "cell_type": "code",
      "execution_count": null,
      "metadata": {
        "id": "ElfXHAqFMzQT"
      },
      "outputs": [],
      "source": [
        "# Fix 2:\n",
        "\n",
        "# Draft version (Uses raw bin(x)[2:]):\n",
        "return bin(int(str(date[0])+str(date[1])+str(date[2])+str(date[3])))[2:]+\"-\"+bin(int(str(date[5])+str(date[6])))[2:]+\"-\"+bin(int(str(date[8])+str(date[9])))[2:]\n",
        "\n",
        "# Fixed version (Uses a function for binary conversion):\n",
        "def binConv(number): #(Binary Conversion)\n",
        "  return bin(number)[2:] #Same source as question 3, https://stackoverflow.com/questions/10411085/converting-integer-to-binary-in-python"
      ]
    },
    {
      "cell_type": "markdown",
      "metadata": {
        "id": "9RoAwjXsRPvQ"
      },
      "source": [
        "---"
      ]
    },
    {
      "cell_type": "markdown",
      "metadata": {
        "id": "QfK-i2ITc4MU"
      },
      "source": [
        "\n",
        "## 5. Reflection on Your Contribution\n",
        "_Where did AI or Other's code helped or fail to help? What specific logic or debugging did you contribute yourself?_\n",
        "\n",
        "## Example\n",
        "1. I used ChatGPT (Level 4) to help identify an edge case where my draft code failed when the input string started with a closing bracket. I also used ChatGPT to help structure the final loop and mapping dictionary, but verified all logic myself by tracing the code.\n",
        "\n",
        "2.  I used ChatGPT to help write the loop. But the code had an indentation error after the `if` block, which caused it to fail. I fixed the spacing and made sure the code runs correctly.\n",
        "\n",
        "3. I used opensource code from Github. I found and fixed a logic bug where they used if s[i] == '(' or ')', which always returned True. I corrected it to properly check both conditions.\n"
      ]
    },
    {
      "cell_type": "markdown",
      "metadata": {
        "id": "Ek_WjbI5cXwv"
      },
      "source": [
        "## Your answer:\n",
        "\n",
        "------"
      ]
    },
    {
      "cell_type": "markdown",
      "metadata": {
        "id": "hyAUxFZCcXwv"
      },
      "source": [
        "I did not use any AI code for this question. I used the same Stack Overflow source for the binary conversion as question 3, but otherwise the adjustments came from me finding the code was hard to read and edit.\n"
      ]
    },
    {
      "cell_type": "markdown",
      "metadata": {
        "id": "7SkVjQYYcXwv"
      },
      "source": [
        "-----------"
      ]
    },
    {
      "cell_type": "markdown",
      "metadata": {
        "id": "NCiEHXetcY5o"
      },
      "source": [
        "#  Problem 3 (DSA): Number of 1 Bits\n",
        "\n",
        "\n"
      ]
    },
    {
      "cell_type": "markdown",
      "metadata": {
        "id": "M_I_xJtocY5p"
      },
      "source": [
        "\n",
        "\n",
        "## 1. Understanding & Breakdown\n",
        "\n",
        "I am going to convert the original integer into binary (in a string), and then use a for loop to count the number of digits that are 1. The operators this program will be use are string conversion (\"str()\") and for loops (or a singular for loop, \"for x in y\"). I'm not entirely sure how I'll convert the number to binary. I do not think I will use any data collections for this problem.\n",
        "\n",
        "Two similar problems to this would be finding the total memory space of a variable in bytes, and finding the number of instances of a word in a text file (like the 'Alice in Wonderland' problem we had to do). Finding the memory of a variable uses a similar process of turning the variable into binary, but also needs to consider the variable type and convert bits to bytes. Finding a word in a text file uses a similar looping process but also requires reading a text file and dividing lines into words to check them."
      ]
    },
    {
      "cell_type": "markdown",
      "metadata": {
        "id": "fSQxOyZicY5q"
      },
      "source": [
        "## 2. Peer Review & Draft Code\n",
        "\n",
        "**Review Guidance:**  \n",
        "\n",
        "Visit the **\"Solutions\"** tab on LeetCode (the provided link above) for the selected problem and review at least one top-rated solution. You may also search for relevant discussions or Q&A threads on **Stack Overflow** or other forums to understand how others approached the problem.\n",
        "\n",
        "Then, write your own version based on what you understood. The goal is not to copy but to apply what you learned. Always include links to the resources you reviewed.\n",
        "\n",
        "---\n"
      ]
    },
    {
      "cell_type": "code",
      "execution_count": null,
      "metadata": {
        "id": "czseLpZicY5q"
      },
      "outputs": [],
      "source": [
        "# Your draft code here (does not need to be fully correct)\n",
        "def hammingWeight(n):\n",
        "  numberOfOnes=0\n",
        "  nBinary=binaryConversion(n) #Need to add some kind of binary conversion\n",
        "\n",
        "  for i in len(nBinary):\n",
        "    if nBinary[i]==\"1\":\n",
        "      numberOfOnes+=1\n",
        "  return numberOfOnes\n"
      ]
    },
    {
      "cell_type": "markdown",
      "metadata": {
        "id": "-UT_xkV9cY5r"
      },
      "source": [
        "---\n"
      ]
    },
    {
      "cell_type": "markdown",
      "metadata": {
        "id": "RA90Lzs3cY5r"
      },
      "source": [
        "## 3. Final Correct Code\n",
        "\n",
        "_This version must pass all required test cases and handle edge cases correctly. Please provide screenshots from Leetcode_\n",
        "\n",
        "At this stage, you may:\n",
        "- Review solutions using AI tools (e.g., ChatGPT, GitHub Copilot) to add ***comments*** and error handeling, refine, improve, and if there are any, fix errors.\n",
        "    -   Tip: Use PROMPT and CoT methods\n",
        "- Refactor your draft to ensure accuracy, completeness, follow the Code Review checklist.\n",
        "\n",
        "### Don't forget to add comments!\n",
        "\n",
        " **AI Level 4 is allowed**, but you **must include a disclaimer** that clearly states what tools you used, how you used them, and for which part of the code.\n",
        "\n",
        "--------------"
      ]
    },
    {
      "cell_type": "code",
      "execution_count": 118,
      "metadata": {
        "id": "rTPNOsebcY5t",
        "colab": {
          "base_uri": "https://localhost:8080/"
        },
        "outputId": "b83dea1c-b32f-4c21-985c-b28510a50bf6"
      },
      "outputs": [
        {
          "output_type": "stream",
          "name": "stdout",
          "text": [
            "Input: 2147483645\n",
            "30\n"
          ]
        }
      ],
      "source": [
        "# Final working solution\n",
        "def hammingWeight(n):\n",
        "  if type(n)!=int: #If n is not an integer\n",
        "    raise TypeError\n",
        "  if not 1<=n<=(2**31-1): #If n is out of bounds\n",
        "    raise ValueError\n",
        "\n",
        "  #Setup\n",
        "  numberOfOnes=0\n",
        "  nBinary=bin(n)[2:] #I used this post for this line: https://stackoverflow.com/questions/10411085/converting-integer-to-binary-in-python\n",
        "\n",
        "  for i in range(len(nBinary)): #Checking for 1s in the binary string\n",
        "    if nBinary[i]==\"1\": #If the current number is a 1 rather than a 0\n",
        "      numberOfOnes+=1\n",
        "  return numberOfOnes #Returning the number of 1s\n",
        "\n",
        "print(hammingWeight(int(input(\"Input: \"))))\n"
      ]
    },
    {
      "cell_type": "markdown",
      "metadata": {
        "id": "ybzNWC51cY5u"
      },
      "source": [
        "Add the screenshot of output for all the test cases from your working solutions."
      ]
    },
    {
      "cell_type": "markdown",
      "source": [
        "![Screenshot 2025-10-12 212219.png](data:image/png;base64,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)![Screenshot 2025-10-12 212203.png](data:image/png;base64,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)![Screenshot 2025-10-12 212155.png](data:image/png;base64,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)"
      ],
      "metadata": {
        "id": "RqI02cCeKWEh"
      }
    },
    {
      "cell_type": "markdown",
      "metadata": {
        "id": "tvVSBcGLcY5u"
      },
      "source": [
        "---"
      ]
    },
    {
      "cell_type": "markdown",
      "metadata": {
        "id": "HS39OjQJcY5v"
      },
      "source": [
        "## 4. Review & Fixes\n",
        "\n",
        "_What did you improve, optimize from your draft? 2 fixes with your comments._\n",
        "\n",
        "If there is no imporvments possible, please describe how the final version meets all the Code Review Checklist items\n",
        "\n",
        "-------\n",
        "\n"
      ]
    },
    {
      "cell_type": "code",
      "execution_count": null,
      "metadata": {
        "id": "35skwJ72cY5v"
      },
      "outputs": [],
      "source": [
        "# Fix 1:\n",
        "\n",
        "# Draft version (incorrectly tries to use an integer in a for loop)\n",
        "for i in len(nBinary):\n",
        "# Fixed version (fixes the for loop with the range() function)\n",
        "for i in range(len(nBinary)):"
      ]
    },
    {
      "cell_type": "code",
      "execution_count": null,
      "metadata": {
        "id": "7vtY4cpScY5v"
      },
      "outputs": [],
      "source": [
        "# Fix 2:\n",
        "\n",
        "# Draft version (did not have a way to convert integer n to a binary value):\n",
        "nBinary=binaryConversion(n)\n",
        "\n",
        "# Fixed version (Uses the bin() function to convert the integer to a binary string):\n",
        "nBinary=bin(n)[2:]"
      ]
    },
    {
      "cell_type": "markdown",
      "metadata": {
        "id": "amY7wFYocY5w"
      },
      "source": [
        "---"
      ]
    },
    {
      "cell_type": "markdown",
      "metadata": {
        "id": "UvbD7iYRcY5w"
      },
      "source": [
        "\n",
        "## 5. Reflection on Your Contribution\n",
        "_Where did AI or Other's code helped or fail to help? What specific logic or debugging did you contribute yourself?_\n",
        "\n",
        "## Example\n",
        "1. I used ChatGPT (Level 4) to help identify an edge case where my draft code failed when the input string started with a closing bracket. I also used ChatGPT to help structure the final loop and mapping dictionary, but verified all logic myself by tracing the code.\n",
        "\n",
        "2.  I used ChatGPT to help write the loop. But the code had an indentation error after the `if` block, which caused it to fail. I fixed the spacing and made sure the code runs correctly.\n",
        "\n",
        "3. I used opensource code from Github. I found and fixed a logic bug where they used if s[i] == '(' or ')', which always returned True. I corrected it to properly check both conditions.\n"
      ]
    },
    {
      "cell_type": "markdown",
      "metadata": {
        "id": "RiTViEW-cY5w"
      },
      "source": [
        "## Your answer:\n",
        "\n",
        "I did not use any AI code in this question. The post from Stack Overflow was immenselt helpful in turning the integer into binary (with n=bin(n)[:2]), but otherwise I fixed the code by testing it and reasoning how to solve them."
      ]
    },
    {
      "cell_type": "markdown",
      "metadata": {
        "id": "3uLEfCmTcY5x"
      },
      "source": [
        "-----------"
      ]
    },
    {
      "cell_type": "markdown",
      "metadata": {
        "id": "SuK0x1JocbZd"
      },
      "source": [
        "#  Problem 4 (Recursion): Reverse Integer\n",
        "\n",
        "\n"
      ]
    },
    {
      "cell_type": "markdown",
      "metadata": {
        "id": "IKIExMn1cbZd"
      },
      "source": [
        "\n",
        "\n",
        "## 1. Understanding & Breakdown\n",
        "\n",
        "The subproblems this program needs to solve are seperating the digits of the integer, storing whether the value is negative, and reassembling the digits backwards. The base case is returning the number if there is only 1 digit, and the recursive step is returning the reverse of the integer without the first digit plus the first digit. This is a tail recursion because it will be easier to exit if the string is just one digit. This would be similar to reversing a string, requiring reversing the elements, but requires converting from strings to integers, removing unnessecary zeroes, and saving nessecary zeroes."
      ]
    },
    {
      "cell_type": "markdown",
      "metadata": {
        "id": "NlHrQy6JcbZe"
      },
      "source": [
        "## 2. Peer Review & Draft Code\n",
        "\n",
        "**Review Guidance:**  \n",
        "\n",
        "Visit the **\"Solutions\"** tab on LeetCode (the provided link above) for the selected problem and review at least one top-rated solution. You may also search for relevant discussions or Q&A threads on **Stack Overflow** or other forums to understand how others approached the problem.\n",
        "\n",
        "Then, write your own version based on what you understood. The goal is not to copy but to apply what you learned. Always include links to the resources you reviewed.\n",
        "\n",
        "---\n"
      ]
    },
    {
      "cell_type": "code",
      "execution_count": null,
      "metadata": {
        "colab": {
          "base_uri": "https://localhost:8080/"
        },
        "id": "GW0MWPhVcbZe",
        "outputId": "cbbf148f-0d51-43b0-9d12-4275f58999fa"
      },
      "outputs": [
        {
          "output_type": "execute_result",
          "data": {
            "text/plain": [
              "-231"
            ]
          },
          "metadata": {},
          "execution_count": 52
        }
      ],
      "source": [
        "# Your draft code here (does not need to be fully correct)\n",
        "def reverse(integer):\n",
        "  positive=True\n",
        "  if integer<0:\n",
        "    positive=False\n",
        "    integer= -integer\n",
        "  stringInteger=str(integer)\n",
        "  if len(stringInteger)==1:\n",
        "    if positive:\n",
        "      return int(stringInteger)\n",
        "    return -int(stringInteger)\n",
        "  if positive:\n",
        "    return int(str(stringInteger[1:])+stringInteger[0])\n",
        "  return -int(str(stringInteger[1:])+stringInteger[0])\n",
        "\n",
        "reverse(-123)"
      ]
    },
    {
      "cell_type": "markdown",
      "metadata": {
        "id": "cjgJauzLcbZe"
      },
      "source": [
        "---\n"
      ]
    },
    {
      "cell_type": "markdown",
      "metadata": {
        "id": "t03lQ8CzcbZf"
      },
      "source": [
        "## 3. Final Correct Code\n",
        "\n",
        "_This version must pass all required test cases and handle edge cases correctly. Please provide screenshots from Leetcode_\n",
        "\n",
        "At this stage, you may:\n",
        "- Review solutions using AI tools (e.g., ChatGPT, GitHub Copilot) to add ***comments*** and error handeling, refine, improve, and if there are any, fix errors.\n",
        "    -   Tip: Use PROMPT and CoT methods\n",
        "- Refactor your draft to ensure accuracy, completeness, follow the Code Review checklist.\n",
        "\n",
        "### Don't forget to add comments!\n",
        "\n",
        " **AI Level 4 is allowed**, but you **must include a disclaimer** that clearly states what tools you used, how you used them, and for which part of the code.\n",
        "\n",
        "--------------"
      ]
    },
    {
      "cell_type": "code",
      "execution_count": 149,
      "metadata": {
        "id": "WQgPwxomcbZf",
        "colab": {
          "base_uri": "https://localhost:8080/"
        },
        "outputId": "a0e103cc-8a47-4614-e384-71d3864f05e8"
      },
      "outputs": [
        {
          "output_type": "stream",
          "name": "stdout",
          "text": [
            "Input: 120\n",
            "21\n"
          ]
        }
      ],
      "source": [
        "# Final working solution\n",
        "def reverseInteger(integer,first=True):\n",
        "  if type(integer)!=int and first: #If integer is not an integer\n",
        "    raise TypeError\n",
        "  if first and not (-2**31)<=integer<=(2**31-1):\n",
        "    raise ValueError\n",
        "  while first and integer%10==0:\n",
        "    integer=integer//10\n",
        "\n",
        "  positive=True\n",
        "  if first and integer<0:\n",
        "    positive=False\n",
        "    integer= -integer\n",
        "  stringInteger=str(integer)\n",
        "  if len(stringInteger)==1:\n",
        "    return integer\n",
        "  if positive:\n",
        "    return int(str(reverseInteger(stringInteger[1:],False))+stringInteger[0])\n",
        "  return -int(str(reverseInteger(stringInteger[1:],False))+stringInteger[0])\n",
        "\n",
        "print(reverseInteger(int(input(\"Input: \"))))\n"
      ]
    },
    {
      "cell_type": "markdown",
      "metadata": {
        "id": "OqZTd86ccbZf"
      },
      "source": [
        "Add the screenshot of output for all the test cases from your working solutions."
      ]
    },
    {
      "cell_type": "markdown",
      "source": [
        "![Screenshot 2025-10-12 212847.png](data:image/png;base64,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)![Screenshot 2025-10-12 214002.png](data:image/png;base64,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)![Screenshot 2025-10-12 212841.png](data:image/png;base64,iVBORw0KGgoAAAANSUhEUgAAAfIAAACYCAYAAAAfiWtYAAAAAXNSR0IArs4c6QAAAARnQU1BAACxjwv8YQUAAAAJcEhZcwAADsMAAA7DAcdvqGQAABoRSURBVHhe7d1/VBTXoQfwLya1gYVUDRIhKmhEFB5qgkKwKmufqdEXfC9ixL4aSDQmUdScV2yxNSGnlLRsI6YREtIXn6kkrSGB1ILxR8N7rtFqiRjhEFRiIovggojKkV0wJnLfHzCTndkfLLqoA9/PORwPc+/OjLPMfufeO3fWSwghQERERJo0SL2AiIiItINBTkREpGEMciIiIg1jkBMREWkYg5yIiEjDGOREREQaxiAnIiLSMAY5ERGRhjHIiYiINIxBTkREpGEMciIiIg1jkBMREWkYg5yIiEjDGOREREQaxiAnIiLSMM0E+ZUOKza9sBgpCWNR8c+96uI+ZWkHfvzst9i4rVNdROSWXTW7MPftuWhqa1IXobzWjCkv/hEzXn4b5tY2dXGfutphxdY1C3Hg3Rx1EQDg7VefR0rCWOwpzFUXaUpjCxC24Fvs/ER5Dlfn5uLdgABU5+ai49w5/C06Gu+PH4+LlZWKevQdd4/Z8peuYflL1xTL1MwnK7Fp0VSYT7o+3q7OH8lA/pzWTJB70p7CXLz43Ey0XnT+R2HrecM11DUCP/23AXm4bpnk5GTo9XpYLBZ1kaYcMx/Db42/xaMTHsUIvxHqYo9ate0jLMx5H21XrqqLHCrZuB6tjfWY8shiddFtq/ViE158bqbbFxeWdiB5w7cIDgT0U52fw9/z9YVu1Ch8f8gQeI/o2/fJk6pzc/G36Gh0nDunLupzro5ZypJBKNnf6TJYgyZMRvDkWLz3wtNoa3G+/7PGzMJw3XCs270OlquOPw98fYC1Px2EX752ze6Crb9z/ld9m7nLW4efZb6P14tOY8pDc9XFfWbjtk6U7O/EdsMdCPRXl5LEYDDAy8vL4U9JSYm6+oDR1NaE9XvXI3pkNNbErlEXAwCmjglCxW+excENTyFoiJ+6uM8ceDcHJw/swZLMLfDzv1ddDAB46r9ew+tFp/HIotXqIs2QLsS3vXwnfH2UZT8IDVX864jUAnX007D35vYO3g7cOWYA8OBEL2zNuKPHYI1fl4UhgaPwwa9X4mqHVV0MAPAd7IuN8zbivPU80j9OVxfLHp01CL97/g4sS7+Gz04IdXG/pZkgvxUaW4C3ijrxi6fuwIMTvdTFZCMtLQ1CCLS1tSEuLg5JSUkQQkAIgfj4eHX1AeODzz8AAPxi1i/URbdUW8s5HNmRj1lJaxE0YbK6uN/47IRAyf5OZK8b1OOF+J06HXyCgqAbNQrf8/WVl0esXo2lzc1YUluLETNnYmxiIpY2N2NpczNGzr15jYrbkbNjJnl01iAkxQ9C6sZONLaoS7sM9tbhkZSX0FhThbKirepi2Qi/EXh++vMw1hqxq2aXulj23OODMCXMC+v/cA2WdnVp/9QnQb6nMBebXliMc2e/wovPzURKwli7cTZpzPvtV5+H6VQl1j0x2WU9qWzdE5NhOmU/nvL2q887XJc0ni51x6UkjEXJ9k24eP4sNqyYLtdz1NX+54+6riKddakbDAYEBwfj1KlT0Ov1cgvUUXewusVqMBjksqNHj0Kn0ymWSQwGA3Q6HY4ePSovKykpUawrOTlZ8ZrGxkYEBwfDYDDY1VW3jqVtS+XBwcFobGxU1IEb23RXcnIykpOT7bYr7Zft8vz8fOzfvx9+fn5yPfWxtVgsimOvPlaS5ORkxf47+3+4ep+kcnff86a2Juw8udNpl7o0Nj4+LRfj03Kddomv2vYRVm37yK5+8bEau/WUHq/F5w3NiHrpv12ut2LP+wDgtEtdGhtXn0e2TKcq8eKzM2A6Vamov+mFxbhi07Lq6dyEi+5y22GwPYW5SEkYiw0rpuPi+bMo2b5JsY/q1wLA6+91YkqYl9Mu9ZFz5yoCeXpODuYUFeFOnU5d1SVprLhh715FC17d5X2xshI7pk3DxcpKHFqzRq5XmpCAb63fHbNDa9bYLbtYWYn3x49Hw9698vbeDQjAsYwMtJlMKIqMdLpd2Oyjer291dtjlrJkEC5dFvLnqSNBEyZjwsxHcGRHfo9d7OEB4fhL5V967GLfd0TAWO58m/2K6AO7P8gRqxaOEasWjhHHDu8RQghx7PAexe8d7RaRveFxsWrhGJG6dJKo/aLCYT1bxw7vUdS1tXXTWrFq4RjxwrMzxKULjUJ074ej+rs/yFHUc6TNKsTDz3wjlqV/qy6SZWVlCQACgMjKyhJCCGE2m8Xo0aNFUlKSXC8pKUmMHj1amM1mIYQQ5eXlwsfHR35NW1ubiIuLE3FxcaKtrU1+nbTcdl1ZWVnCx8dHlJeXC+Fke9IyAIrtql+r3g9p2erVq+XfhYPXOdqmxNE+20pKSupxv2zrqo+JLUf74Whd6uNfXFyseM+c1XN0fNx9z4UQ4qOTH4kfvvlD8dnZzxTLHVn5p53isc0F4nLH1+oisfJPO0XoL3LEDzO3irOXLgshhNi465CY/MKb4sjps3Z1na1H8nW7RfzP6sdEYYbyfXak9osKkbp0ksPzUSpbtXCM2P1BjhBCiEsXGsULz84QWzetletJ56btuag+N6XXSeuRODpXndVVM58XYnz8N+KVP11TF12XbywW8fHCheIfqvNDCCHam5rEjmnTxDvDh8vlUv2PFy4U31gsQgghLlRUiILQUEU96bW26/3H6tWK19m+tn6P8r34PCdH7Jg2TbQ3NSmWq9Xv2SPeGT5cFISGigsV9p+hfUX6LH34mW9Em1Vd+p0TB/aIDQ/5ixMH7P/WbG0+tLnH80p67119fvcnji9TPWTFz/Pk8ewJk2fg/olTceywsktk2PD78MJrexES2tW9FzJ+MoYNvw9NDacU9dzh7eOH5am5GDKsq/UzYfJMAEDrBfduarP1RZ1ARY3AY//ac5d6cXEx0tLSAACBgYHQ6/Woq6uDxWLB0aNHUVhYiNzcXAQGBgIAoqKikJ6ejjfeeAONjY3w9fXFvHnzcOTIEdTUdLWyAKCmpgZHjhzBokWLgO6W9htvvIH09HRERUXJ28vNzUVhYaFdSzQuLg7V1dXydufMmQMAMJvNin+l5ejet5yc7+5g7u023eHj44MPP/zQ6X65Kz8/HwCQlZUlL0tJScG0adOwefNmoHv/jUYjVq1aJW9v9uzZiIuLw+7du+VWtDvvky1X77mk9MtShAwNQai/67FEd/gM/h7+8J9z5TH0uAnBAHBdd7m31H2JxpoqRMx+VF10XabOiJfH0IcMG4GxYQ/i0oVGRavc28cPq9Pz5fP8oR8tgrfubpysPCDX8bSjxztx6bLAj6J7Poc9ZcTMmYju/nu8U6dD4OzZsNbX4xtVb83YxERM7z7PvO+9F+OSknC+rMyuFe1J90yZAr+QEAyLjMTd48api/uMrw/w4+mDUNcItLno6r5vwhQMuy8E501fqIsUZgTPAAA0ttn3HEoC/YEZD3ihvkkMiO71PgvyYcPvQ8j478be7vLWYeg9gXYn+FD/QNzl/d0NPkOGjcBv3jxwXTfXBAWHYcRIz/yBms933SgRNNz1h4CPjw+CgoIUy7Zt2waj0QhfX1+UlpbC398fU6dOVdQJDw9HS0uLHF5JSUnw9/dHaWmpXEf92vLycrS0tCiCF4C8fXUQBgcHw9dm3CoqKgpWq1Ues5ZeN2vWLKeB3NttumPatGkICwtTL+4Vi8WC3bt3Q6/Xy8ELAL6+vggODpZD1Ww2o6XF8eCc7fFRH2uJ+n2CG+85AFiuWtBsbUaALgC+g+3HDntrbMBQhPU0yOumyy1dF7Z3+9t391+PB2LnqxfZUZ+bd3n7Yah/IBrre3/B7q6TtcDQu70Q2MM57EmBs2c77WK2NfpR5UXUD0JD8XVrKzqaet/ocJf3vffi3z/91GU3eF+ZMAa4dFmgsftz1ZHv63wxJHAUmmtdB3mgXyB0g3X46uJX6iKFiWO9erx46C/6LMipy/Hjx3HmzBkEBQUpxl4XLFigqCe16qRWohRUti3J48ePo729HVOnTlWsa+rUqWhv7/1fa1RUFL788ks5wLwcjJF7epue0tbWhtraWuTn5yv2y6t7bF0SFRWFRYsWKVrV+/btw/79++WeDvTifSIiut0wyPtYeHg4Ro8eDbPZLN/FLf1YrVa5uxoAFi1aJHev19TU4PTp04qWcHh4OHx8fFBeXm63ruu9OzwwMBB1dXUQQqC4uBhnzpzBQw89JIdeX2zTE/z8/DBmzBjF3fG2P1Lr2GKxoK6uThHSCxYsQHFxsWLfe/M+ERHdTm5akLdebMLpms8QPmUW7vK+ud06aiNGhqLDehmtF5yPR0ld6lIX+/Vy1DXrzOzZszFt2jSUlpaitLQUY8eOVXRB30h3tjvi4+NRXFys2N++3qYr4eHhqK2tRVub/TiwugvdmX379uHIkSN2FyLqC5DevE/u8B3siwBdAJqtzU7vru0L9wcMQ/NlK9qufK0ukkld6lIX+63Q1PAlzHU1Lrvlr3RYcbziE/Vit7vl3enOvV2c2bmzx7HrxgMHcLW1Vb3Y7W55T921fj3cGeb42mpBa2M9AsaMVxcpNLY1wnrVivuH3a8uUjhxWiA4EPBTPTugP7ppQf7Xbb8Dum9yudWG3NP1QbZvp/M5i+ODvTAlzAt//d8b+xCQwnnhwoV2N0ypSTe9bd++Hdu3b0dqaqrdGPeiRYuwZMkSp2PavSFNT7NVWFgIf39/OcA9vc3eCA8Px5kzZxRd5bbWrl2LI0eOICUlRV0kc/dCpDfvk7vmjJsD0yUTTrW4DhxPCh3RFeTbD3+uLpL5B49DYFgkqvftVBfdFFc6rPhw28sICg7DhMldNy5J4Xy84hNc6bDiSocVb7z8FL46Ua5+uXy/TfVnRodTUSVR4YMw9G4v/N+nN3YO97WGvXtxuqAAE555Rh67/kFYGC5WVeHyl18C3Q+lOZaRoXplF5/uJ6qd3LJFXaRwoaICbSaTYr03g6Ud+Puhzh5D9ezJClw8a8LwENdBfrDuINA9Vu5MYwtw8JjAqBFedg8B6o/6LMjV87QvXWjEhlf3yHeUu8t27ulbr6xER3sbXln/mMP5qu4KCZ2MpSm/R/nBEnn/1PPIpTstDx4TTh9k4A5fX18YjUbo9Xq78Vf1HGZ038F96tQpXLp0ye7GK3TfVJWenm43Zu1oHnNP0tLSUFhYqFhPXV2d4k53uLlNaf61n58f9u/frxi7Vl8suCs+Ph5ZWVlYv369w21KY/xGo1GxX7bblO48X7BggV0d23X19n1yx4NBD0I3WCd/8Khl7z4sz/VWz//O3n1YXd0tCx4Iw7P6KPzReNTpPPLB3jqExsxGXeU/Hc7ZtX3mwivrH0NHexveemWlw/PEXV+dKEfq0kikJIxF6tJIDL0nED/LfF/unbvLW4dlP9uMSy2NSF0aidSlkQifMgsrfp6nXhUA4CfP/RZBwWHyZ4GjeeTSnct/P9R5Q3cuS/PC3xszBk0HDuB0QcENP9nN+MQT8joOrVmD+R9/rHi4TMTq1Rg5dy52Pfww3g0IQOO+fVhw+DD8QkIU6wGAYZMnY3pOjmK/HM0jv1V3rUszgNb+dJDLUK3etxNjp87E2KiuiztHLFctKKsvQ/TIaDwQ9IC6WCbNWEhZ0mcRd3tRz0fzBEdzP7VooM1F7I+ked/FxcWK5dIccfXcb09zZ87rrXD5fJPITpjq1lzyG7V101qRveFx0dH+3Zzom+Xo8U4xPO6qx+aS3yhnc8H7s2Xp3/Y4h/zsiQqR+fC4HueQu/NsBneeAdLfDJDLlesT6A+sSBiE/JJOl88KptvX8ePHMXr0aLvejaCgIPj7e2Y6lyuP/8vj0A3WIftg9k0dK++Jn/+9mPYfSTi26z2cPHh9rUoteHCiF+LjBuH3bw+sZ2/fLnZ+0on8kk6XrfGrHVbsef3XCAyLdNkab2prwmuHXuuxNf7mB52oqBlArfG+7FrvL9Yldz0reKA9hL+/kMbZy8uVY63r16/HmTNnFFPQ+sIIvxHImpsF0yWTyy97uBVmLl2DB+YvQVHG6h6/RlLLXku7A1PCvPCTtGs3NExGvfPZCYFl6dfwu+fvwKOznEeN9A18j7+Uh8FOboS2XLVg3e51GK4bjoyHHd8rgO4Lh1++dg1bMwbW92M4P7okkz4IbvebZsheWloasrKy7MbIjUYjzGaz3d3rfeGBoAfwK/2vUN1c7fL7lG+F+HVZCAyLxFfl9neH9xe+Pl3ffIbusVO6OV5/rxPxcYOwLtl5zJhPVqKu8rDLb+ADgE9qP8F563lsnLfR6QOWLO3A5j939njh0B95CSGYTkRERBo1sC5biIiI+hkGORERkYYxyImIiDSMQU5ERKRhDHIiIiINY5ATERFpGIOciIhIwxjkREREGsYgJyIi0jAGORERkYYxyImIiDSMQU5ERKRhDHIiIiINY5ATERFpGIOciIhIwxjkREREGsYgJyIi0jAGORERkYYxyImIiDSMQU5ERKRhDHIiIiINY5ATERFpGIOciIhIwxjkREREGsYgJyIi0jAGORERkYYxyImIiDSMQU5ERKRhDHIiIiINY5ATERFpGIOciIhIwxjkREREGsYgJyIi0jAGORERkYYxyImIiDSMQU5ERKRhDHIiIiINY5ATERFpmFdra6tQLyQiIiJt8BJCMMiJiIg0il3rREREGsYgJyIi0jAGORERkYYxyImIiDSMQU5ERKRhDHIiIiINY5ATERFpGIOciIhIwxjkREREGsYgJyIi0jAGORERkYYxyImIiDRswAV5amoqEhMTYbVa1UVERESa4/EgT01NRUhIiN3PxIkTUVVVpa4+IFRVVWHixIkuj4H6uKWmpirKm5ubMX36dB5TIiJS8HiQZ2dnw2Qy4dNPP0VQUBDS0tJgMplw4sQJREZGqqv3a1arFYmJicjMzMTy5cvVxTIptE0mE0wmE0pKSrBr1y5FmAcEBODQoUNyHZPJhPnz52Px4sUMcyKiAczjQe6OqqoqxMbGoqqqStESVXd55+XlITExEbW1tYrWaF5enlxHaqnaLpNeO336dDQ3N8st4pCQEBQVFaGsrAwRERFOtwubVrS6Zdwb6enp0Ov1KCgogE6nUxfLsrOzkZ2dLf8eGRmJ+fPn4/Dhw2hublbUtfXkk08CAM6dO6cuIiKiAeKWBDkAtLa2Ij4+HuPGjZNb8PX19UhPT1fUKysrw+zZs5GRkQGTyYQtW7bAYDCgtLRUUc+VyMhInDhxAiaTCQkJCYiJiUF1dbXcsnUUtAcPHkRHR0ePYepKdnY2Vq5cqV5MRETkMbcsyAEgISFBDrqAgADExsaioaHBrnW8ZcsWzJkzBwAQGxuLmJgY7N69W1HH02bMmAFvb2/ExsYiICBAXdynrFYrGhoaMGrUKLsLDInVakVmZiYmTZqE2NhYdTEREQ0QtzTI582bp15kJygoCJMmTZJ/1+l0GDlypMPA9ySpFW/b5X2z5Ofno6ysDHq9XhHk0ph7SEgIIiIiUF9fj5ycHKdhT0RE/d8tDXKyl5eXB4PBoOitkOh0OhQUFMhDAhkZGYiOjra7P4CIiAYOBvltpLS0FAaDATExMcjIyFAX25kzZw4SEhJgNBr7tHeCiIhuX5oL8ubmZhw+fNiu29mW1WqF0WhULwYAjBs3DvX19T0GnyfuWu+N0tJSPP3004iJicHWrVud/t+IiIhsaS7IDQYD0H2jHLq7m0eNGiW3Sq1WK5YtW4aysjLVK7uEhobCbDajqKhIXaTgibvW3XW9IZ6Xl4eioiKsWLHC7dcQEVH/4vEgl+aFR0dHw2w2w2Aw3NBTyMxmM6Kjo+U53w0NDfj444/lO8l1Oh1ycnJQX1+PiIgIREREQK/XY8uWLepVAd3d0WlpafJ+OZtH7om71vPy8uRtGAwGdHR0ID4+XrFNq9WKt956C+ieamc7vz3E5glvtnPhpR+j0Yjq6mr5jn4iIhp4vIQQQr3wdpGXl4d33nkHO3bsuO4wJSIi6s883iInIiKim4dBTkREpGEMciIiIg27rcfIiYiIyDW2yImIiDSMQU5ERKRhDHIiIiINY5ATERFpGIOciIhIw/okyKXHtKofMyppbm7G9OnTFXVcPcJVejypqzpEREQDkceDXApt6TuzS0pKsGvXLkWYBwQE4NChQ3Idk8mE+fPnY/HixYqgtlqtSExMRGZmJpYvXy4vJyIioi4eD/Ls7GxkZ2fLv0dGRmL+/Pk9fovYk08+CQA4d+6cvCw9PR16vR4FBQX8di8iIiIHPB7knpSdnY2VK1eqFxMREVG3Pg9yq9WKhoYGjBo1ymmr2mq1IjMzE5MmTUJsbKy6mIiIiJzo8yDPz89HWVkZ9Hq9Isil8e+QkBBERESgvr4eOTk5TsOeiIiI7PVpkOfl5cFgMCAhIcGui1yn06GgoEC+2S0jIwPR0dHIy8tT1CMiIiLn+izIS0tLYTAYEBMTg4yMDHWxnTlz5iAhIQFGoxFWq1VdTERERA70SZCXlpbi6aefRkxMDLZu3cruciIioj7i8SC/3hDPy8tDUVERVqxY4fZriIiIBjqPfh+51WrFsmXLUFZWpi4CACQkJCA7OxtVVVVYvHgxOjo65DJHwS+NsTviqD4REdFA49EgJyIiopvL413rREREdPMwyImIiDSMQU5ERKRhDHIiIiINY5ATERFpGIOciIhIwxjkREREGsYgJyIi0jAGORERkYYxyImIiDSMQU5ERKRhDHIiIiINY5ATERFpGIOciIhIwxjkREREGsYgJyIi0jAGORERkYYxyImIiDTMS5dYIdQLiYiISBvYIiciItIwLyEEW+REREQaxRY5ERGRhjHIiYiINIxBTkREpGEMciIiIg1jkBMREWkYg5yIiEjDGOREREQaxiAnIiLSMAY5ERGRhjHIiYiINIxBTkREpGH/D2f1M9CtoWzgAAAAAElFTkSuQmCC)"
      ],
      "metadata": {
        "id": "HKl8YkEYKbqD"
      }
    },
    {
      "cell_type": "markdown",
      "metadata": {
        "id": "XG2V5Uk6cbZf"
      },
      "source": [
        "---"
      ]
    },
    {
      "cell_type": "markdown",
      "metadata": {
        "id": "oC7hpRMBcbZg"
      },
      "source": [
        "## 4. Review & Fixes\n",
        "\n",
        "_What did you improve, optimize from your draft? 2 fixes with your comments._\n",
        "\n",
        "If there is no imporvments possible, please describe how the final version meets all the Code Review Checklist items\n",
        "\n",
        "-------\n",
        "\n"
      ]
    },
    {
      "cell_type": "code",
      "execution_count": null,
      "metadata": {
        "id": "KTf6RN1ScbZg"
      },
      "outputs": [],
      "source": [
        "# Fix 1:\n",
        "\n",
        "# Draft version (Redundant logic)\n",
        "if len(stringInteger)==1:\n",
        "  if positive:\n",
        "    return int(stringInteger)\n",
        "    return -int(stringInteger)\n",
        "# Fixed version (Condensed logic)\n",
        "if len(stringInteger)==1:\n",
        "    return integer"
      ]
    },
    {
      "cell_type": "code",
      "source": [
        "#Fix 2:\n",
        "# Fixed version (Error checking):\n",
        "  if type(n)!=int: #If n is not an integer\n",
        "    raise TypeError\n",
        "  if not (-2**31)<=n<=(2**31-1):\n",
        "    raise ValueError"
      ],
      "metadata": {
        "id": "KcKypQlKFMjY"
      },
      "execution_count": null,
      "outputs": []
    },
    {
      "cell_type": "markdown",
      "metadata": {
        "id": "lu-UTlVJcbZg"
      },
      "source": [
        "---"
      ]
    },
    {
      "cell_type": "markdown",
      "metadata": {
        "id": "Uqd9mTYrcbZh"
      },
      "source": [
        "\n",
        "## 5. Reflection on Your Contribution\n",
        "_Where did AI or Other's code helped or fail to help? What specific logic or debugging did you contribute yourself?_\n",
        "\n",
        "## Example\n",
        "1. I used ChatGPT (Level 4) to help identify an edge case where my draft code failed when the input string started with a closing bracket. I also used ChatGPT to help structure the final loop and mapping dictionary, but verified all logic myself by tracing the code.\n",
        "\n",
        "2.  I used ChatGPT to help write the loop. But the code had an indentation error after the `if` block, which caused it to fail. I fixed the spacing and made sure the code runs correctly.\n",
        "\n",
        "3. I used opensource code from Github. I found and fixed a logic bug where they used if s[i] == '(' or ')', which always returned True. I corrected it to properly check both conditions.\n"
      ]
    },
    {
      "cell_type": "markdown",
      "metadata": {
        "id": "7t8vXf1EcbZh"
      },
      "source": [
        "## Your answer:\n",
        "\n",
        "------"
      ]
    },
    {
      "cell_type": "markdown",
      "metadata": {
        "id": "OIej1acZcbZi"
      },
      "source": [
        "-> I did not use ChatGPT or any outside assistance.\n",
        "\n"
      ]
    },
    {
      "cell_type": "markdown",
      "metadata": {
        "id": "laWEGn-BcbZi"
      },
      "source": [
        "-----------"
      ]
    },
    {
      "cell_type": "markdown",
      "metadata": {
        "id": "eYj5yuBWcdnS"
      },
      "source": [
        "#  Problem 5 (Recursion): Reverse String\n",
        "\n",
        "\n"
      ]
    },
    {
      "cell_type": "markdown",
      "metadata": {
        "id": "cVDH7pOjcdnT"
      },
      "source": [
        "\n",
        "\n",
        "## 1. Understanding & Breakdown\n",
        "\n",
        "My code should recursion should check the input is valid, solve the problem of rearranging the elements from backwards. The base case will return the input, the recursive case will return the reverse of itself without the first variable with the first element of the input appended on the end. I will use tail recursion. It is similar to rearranging a string, but only reverses the order of the characters. A loop based solution would be almost exactly the same but would probably use less memory. Turning it into head recursion would require inverting the if statement and switching the contents of the if with the contents after the if."
      ]
    },
    {
      "cell_type": "markdown",
      "metadata": {
        "id": "0NiQvjrVcdnU"
      },
      "source": [
        "## 2. Peer Review & Draft Code\n",
        "\n",
        "**Review Guidance:**  \n",
        "\n",
        "Visit the **\"Solutions\"** tab on LeetCode (the provided link above) for the selected problem and review at least one top-rated solution. You may also search for relevant discussions or Q&A threads on **Stack Overflow** or other forums to understand how others approached the problem.\n",
        "\n",
        "Then, write your own version based on what you understood. The goal is not to copy but to apply what you learned. Always include links to the resources you reviewed.\n",
        "\n",
        "---\n"
      ]
    },
    {
      "cell_type": "code",
      "execution_count": 91,
      "metadata": {
        "id": "rf_sE6Z4cdnU",
        "colab": {
          "base_uri": "https://localhost:8080/"
        },
        "outputId": "4afb0e86-c101-4662-e8f6-32764f7220bf"
      },
      "outputs": [
        {
          "output_type": "stream",
          "name": "stdout",
          "text": [
            "['d', 'c', 'b', 'a']\n"
          ]
        }
      ],
      "source": [
        "# Your draft code here (does not need to be fully correct)\n",
        "def reverseString(s):\n",
        "  if len(s)==1:\n",
        "    return s\n",
        "\n",
        "  return reverseString(s[1:]).append(s[0])\n",
        "\n",
        "print(reverseString([\"a\",\"b\",\"c\",\"d\"]))"
      ]
    },
    {
      "cell_type": "markdown",
      "metadata": {
        "id": "V4P4-Az8cdnU"
      },
      "source": [
        "---\n"
      ]
    },
    {
      "cell_type": "markdown",
      "metadata": {
        "id": "cvCFMbm4cdnV"
      },
      "source": [
        "## 3. Final Correct Code\n",
        "\n",
        "_This version must pass all required test cases and handle edge cases correctly. Please provide screenshots from Leetcode_\n",
        "\n",
        "At this stage, you may:\n",
        "- Review solutions using AI tools (e.g., ChatGPT, GitHub Copilot) to add ***comments*** and error handeling, refine, improve, and if there are any, fix errors.\n",
        "    -   Tip: Use PROMPT and CoT methods\n",
        "- Refactor your draft to ensure accuracy, completeness, follow the Code Review checklist.\n",
        "\n",
        "### Don't forget to add comments!\n",
        "\n",
        " **AI Level 4 is allowed**, but you **must include a disclaimer** that clearly states what tools you used, how you used them, and for which part of the code.\n",
        "\n",
        "--------------"
      ]
    },
    {
      "cell_type": "code",
      "execution_count": 153,
      "metadata": {
        "id": "4Oy-u206cdnV",
        "colab": {
          "base_uri": "https://localhost:8080/"
        },
        "outputId": "145cbb13-b41a-499c-9951-90a3852fbaf7"
      },
      "outputs": [
        {
          "output_type": "stream",
          "name": "stdout",
          "text": [
            "Input: ['H', 'a', 'n', 'n', 'a', 'h']\n",
            "Output: ['h', 'a', 'n', 'n', 'a', 'H']\n"
          ]
        }
      ],
      "source": [
        "# Final working solution\n",
        "def reverseString(s):\n",
        "  if type(s)!=list:\n",
        "    raise TypeError\n",
        "  if not (1<=len(s)<=(10**5)):\n",
        "    raise ValueError\n",
        "  for i in range(len(s)):\n",
        "    if not (s[i].isprintable() and len(s[i])==1):\n",
        "      raise ValueError #for the .isprintable() method: https://www.w3schools.com/python/ref_string_isprintable.asp\n",
        "\n",
        "  if len(s)==1:\n",
        "    return s\n",
        "  return reverseString(s[1:])+[s[0]]\n",
        "\n",
        "x=[\"H\",\"a\",\"n\",\"n\",\"a\",\"h\"]\n",
        "print(f\"Input: {x}\")\n",
        "print(f\"Output: {reverseString(x)}\")"
      ]
    },
    {
      "cell_type": "markdown",
      "metadata": {
        "id": "c_enU-adcdnV"
      },
      "source": [
        "Add the screenshot of output for all the test cases from your working solutions."
      ]
    },
    {
      "cell_type": "markdown",
      "source": [
        "![Screenshot 2025-10-12 214639.png](data:image/png;base64,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)![Screenshot 2025-10-12 214710.png](data:image/png;base64,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)"
      ],
      "metadata": {
        "id": "nl6jgo81QBTB"
      }
    },
    {
      "cell_type": "markdown",
      "metadata": {
        "id": "wscBCn9zcdnW"
      },
      "source": [
        "---"
      ]
    },
    {
      "cell_type": "markdown",
      "metadata": {
        "id": "ZSdwenx6cdnW"
      },
      "source": [
        "## 4. Review & Fixes\n",
        "\n",
        "_What did you improve, optimize from your draft? 2 fixes with your comments._\n",
        "\n",
        "If there is no imporvments possible, please describe how the final version meets all the Code Review Checklist items\n",
        "\n",
        "-------\n",
        "\n"
      ]
    },
    {
      "cell_type": "code",
      "execution_count": null,
      "metadata": {
        "id": "gFWgYHl_cdnW"
      },
      "outputs": [],
      "source": [
        "# Fix 1:\n",
        "\n",
        "# Draft version (Tried to append s[0] which resulted in it returning none and running into an error)\n",
        "return reverseString(s[1:]).append(s[0])\n",
        "# Fixed version (Added [s[0]] instead, leading to it concatenating correctly)\n",
        "return reverseString(s[1:])+[s[0]]"
      ]
    },
    {
      "cell_type": "code",
      "execution_count": null,
      "metadata": {
        "id": "xWqxYorvcdnW"
      },
      "outputs": [],
      "source": [
        "# Fix 2:\n",
        "\n",
        "# Draft version:\n",
        "\n",
        "\n",
        "# Fixed version:\n"
      ]
    },
    {
      "cell_type": "markdown",
      "metadata": {
        "id": "ZtrqDJIJcdnX"
      },
      "source": [
        "---"
      ]
    },
    {
      "cell_type": "markdown",
      "metadata": {
        "id": "oDLvlWcccdnX"
      },
      "source": [
        "\n",
        "## 5. Reflection on Your Contribution\n",
        "_Where did AI or Other's code helped or fail to help? What specific logic or debugging did you contribute yourself?_\n",
        "\n",
        "## Example\n",
        "1. I used ChatGPT (Level 4) to help identify an edge case where my draft code failed when the input string started with a closing bracket. I also used ChatGPT to help structure the final loop and mapping dictionary, but verified all logic myself by tracing the code.\n",
        "\n",
        "2.  I used ChatGPT to help write the loop. But the code had an indentation error after the `if` block, which caused it to fail. I fixed the spacing and made sure the code runs correctly.\n",
        "\n",
        "3. I used opensource code from Github. I found and fixed a logic bug where they used if s[i] == '(' or ')', which always returned True. I corrected it to properly check both conditions.\n"
      ]
    },
    {
      "cell_type": "markdown",
      "metadata": {
        "id": "IBFtmX7UcdnX"
      },
      "source": [
        "## Your answer:\n",
        "\n",
        "------"
      ]
    },
    {
      "cell_type": "markdown",
      "metadata": {
        "id": "dm0ZkUllcdnY"
      },
      "source": [
        "-> I did not use AI or other external help, trying various methods eventually allowed me to fix the error I had.\n",
        "\n"
      ]
    },
    {
      "cell_type": "markdown",
      "metadata": {
        "id": "odiPDg2ncdnY"
      },
      "source": [
        "-----------"
      ]
    }
  ],
  "metadata": {
    "colab": {
      "provenance": [],
      "include_colab_link": true
    },
    "kernelspec": {
      "display_name": "Python 3",
      "name": "python3"
    },
    "language_info": {
      "name": "python"
    },
    "title": "CISC 121 – Assignment 2"
  },
  "nbformat": 4,
  "nbformat_minor": 0
}
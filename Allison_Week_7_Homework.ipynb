{
  "nbformat": 4,
  "nbformat_minor": 0,
  "metadata": {
    "colab": {
      "provenance": [],
      "authorship_tag": "ABX9TyOaR5bgFb6tWizmY1gpEf2t",
      "include_colab_link": true
    },
    "kernelspec": {
      "name": "python3",
      "display_name": "Python 3"
    },
    "language_info": {
      "name": "python"
    }
  },
  "cells": [
    {
      "cell_type": "markdown",
      "metadata": {
        "id": "view-in-github",
        "colab_type": "text"
      },
      "source": [
        "<a href=\"https://colab.research.google.com/github/allisonqueensuniversity/CISC121/blob/main/Allison_Week_7_Homework.ipynb\" target=\"_parent\"><img src=\"https://colab.research.google.com/assets/colab-badge.svg\" alt=\"Open In Colab\"/></a>"
      ]
    },
    {
      "cell_type": "markdown",
      "source": [
        "# **CISC 121 - Section 001 - Week 7 Homework**"
      ],
      "metadata": {
        "id": "qPjyDBa3SAG8"
      }
    },
    {
      "cell_type": "markdown",
      "source": [],
      "metadata": {
        "id": "mvJuT6wz_TyS"
      }
    },
    {
      "cell_type": "markdown",
      "metadata": {
        "id": "KGKqcY70N3Md"
      },
      "source": [
        "\n",
        "\n",
        "1. Your Name: Allison Aburto\n",
        "2. Section: CISC121 001\n",
        "3. ID:20530408\n",
        "4. Github or Colab link of this notebook:\n",
        "5. Links to Chats: N/A\n"
      ]
    },
    {
      "cell_type": "markdown",
      "source": [
        "**Problem 1**"
      ],
      "metadata": {
        "id": "IZdizQdRSMVv"
      }
    },
    {
      "cell_type": "code",
      "source": [
        "def combinationsDishes(dishes,index=0,combo=[]):\n",
        "  numberReturn=0\n",
        "  if index==len(dishes): #only one option is available\n",
        "    print(combo) #prints the finished combo\n",
        "    return 1 #does this for every unique combo to get total # of combos\n",
        "\n",
        "  numberReturn=numberReturn+combinationsDishes(dishes,index+1,combo+[dishes[index]]) #uses a list with the current item\n",
        "  numberReturn=numberReturn+combinationsDishes(dishes,index+1,combo) #uses a list without the current item\n",
        "  return numberReturn #returns the number of possible combinations\n",
        "\n",
        "print(combinationsDishes(['a','b','c','d','e','f','g']))\n",
        "print(combinationsDishes([\"Turkey\",\"Pie\",\"Stuffing\"]))\n",
        "\n"
      ],
      "metadata": {
        "colab": {
          "base_uri": "https://localhost:8080/"
        },
        "collapsed": true,
        "id": "5gX5en1zSdsP",
        "outputId": "546220b5-2a5d-4939-d7e8-581deb7565fc"
      },
      "execution_count": 5,
      "outputs": [
        {
          "output_type": "stream",
          "name": "stdout",
          "text": [
            "['a', 'b', 'c', 'd', 'e', 'f', 'g']\n",
            "['a', 'b', 'c', 'd', 'e', 'f']\n",
            "['a', 'b', 'c', 'd', 'e', 'g']\n",
            "['a', 'b', 'c', 'd', 'e']\n",
            "['a', 'b', 'c', 'd', 'f', 'g']\n",
            "['a', 'b', 'c', 'd', 'f']\n",
            "['a', 'b', 'c', 'd', 'g']\n",
            "['a', 'b', 'c', 'd']\n",
            "['a', 'b', 'c', 'e', 'f', 'g']\n",
            "['a', 'b', 'c', 'e', 'f']\n",
            "['a', 'b', 'c', 'e', 'g']\n",
            "['a', 'b', 'c', 'e']\n",
            "['a', 'b', 'c', 'f', 'g']\n",
            "['a', 'b', 'c', 'f']\n",
            "['a', 'b', 'c', 'g']\n",
            "['a', 'b', 'c']\n",
            "['a', 'b', 'd', 'e', 'f', 'g']\n",
            "['a', 'b', 'd', 'e', 'f']\n",
            "['a', 'b', 'd', 'e', 'g']\n",
            "['a', 'b', 'd', 'e']\n",
            "['a', 'b', 'd', 'f', 'g']\n",
            "['a', 'b', 'd', 'f']\n",
            "['a', 'b', 'd', 'g']\n",
            "['a', 'b', 'd']\n",
            "['a', 'b', 'e', 'f', 'g']\n",
            "['a', 'b', 'e', 'f']\n",
            "['a', 'b', 'e', 'g']\n",
            "['a', 'b', 'e']\n",
            "['a', 'b', 'f', 'g']\n",
            "['a', 'b', 'f']\n",
            "['a', 'b', 'g']\n",
            "['a', 'b']\n",
            "['a', 'c', 'd', 'e', 'f', 'g']\n",
            "['a', 'c', 'd', 'e', 'f']\n",
            "['a', 'c', 'd', 'e', 'g']\n",
            "['a', 'c', 'd', 'e']\n",
            "['a', 'c', 'd', 'f', 'g']\n",
            "['a', 'c', 'd', 'f']\n",
            "['a', 'c', 'd', 'g']\n",
            "['a', 'c', 'd']\n",
            "['a', 'c', 'e', 'f', 'g']\n",
            "['a', 'c', 'e', 'f']\n",
            "['a', 'c', 'e', 'g']\n",
            "['a', 'c', 'e']\n",
            "['a', 'c', 'f', 'g']\n",
            "['a', 'c', 'f']\n",
            "['a', 'c', 'g']\n",
            "['a', 'c']\n",
            "['a', 'd', 'e', 'f', 'g']\n",
            "['a', 'd', 'e', 'f']\n",
            "['a', 'd', 'e', 'g']\n",
            "['a', 'd', 'e']\n",
            "['a', 'd', 'f', 'g']\n",
            "['a', 'd', 'f']\n",
            "['a', 'd', 'g']\n",
            "['a', 'd']\n",
            "['a', 'e', 'f', 'g']\n",
            "['a', 'e', 'f']\n",
            "['a', 'e', 'g']\n",
            "['a', 'e']\n",
            "['a', 'f', 'g']\n",
            "['a', 'f']\n",
            "['a', 'g']\n",
            "['a']\n",
            "['b', 'c', 'd', 'e', 'f', 'g']\n",
            "['b', 'c', 'd', 'e', 'f']\n",
            "['b', 'c', 'd', 'e', 'g']\n",
            "['b', 'c', 'd', 'e']\n",
            "['b', 'c', 'd', 'f', 'g']\n",
            "['b', 'c', 'd', 'f']\n",
            "['b', 'c', 'd', 'g']\n",
            "['b', 'c', 'd']\n",
            "['b', 'c', 'e', 'f', 'g']\n",
            "['b', 'c', 'e', 'f']\n",
            "['b', 'c', 'e', 'g']\n",
            "['b', 'c', 'e']\n",
            "['b', 'c', 'f', 'g']\n",
            "['b', 'c', 'f']\n",
            "['b', 'c', 'g']\n",
            "['b', 'c']\n",
            "['b', 'd', 'e', 'f', 'g']\n",
            "['b', 'd', 'e', 'f']\n",
            "['b', 'd', 'e', 'g']\n",
            "['b', 'd', 'e']\n",
            "['b', 'd', 'f', 'g']\n",
            "['b', 'd', 'f']\n",
            "['b', 'd', 'g']\n",
            "['b', 'd']\n",
            "['b', 'e', 'f', 'g']\n",
            "['b', 'e', 'f']\n",
            "['b', 'e', 'g']\n",
            "['b', 'e']\n",
            "['b', 'f', 'g']\n",
            "['b', 'f']\n",
            "['b', 'g']\n",
            "['b']\n",
            "['c', 'd', 'e', 'f', 'g']\n",
            "['c', 'd', 'e', 'f']\n",
            "['c', 'd', 'e', 'g']\n",
            "['c', 'd', 'e']\n",
            "['c', 'd', 'f', 'g']\n",
            "['c', 'd', 'f']\n",
            "['c', 'd', 'g']\n",
            "['c', 'd']\n",
            "['c', 'e', 'f', 'g']\n",
            "['c', 'e', 'f']\n",
            "['c', 'e', 'g']\n",
            "['c', 'e']\n",
            "['c', 'f', 'g']\n",
            "['c', 'f']\n",
            "['c', 'g']\n",
            "['c']\n",
            "['d', 'e', 'f', 'g']\n",
            "['d', 'e', 'f']\n",
            "['d', 'e', 'g']\n",
            "['d', 'e']\n",
            "['d', 'f', 'g']\n",
            "['d', 'f']\n",
            "['d', 'g']\n",
            "['d']\n",
            "['e', 'f', 'g']\n",
            "['e', 'f']\n",
            "['e', 'g']\n",
            "['e']\n",
            "['f', 'g']\n",
            "['f']\n",
            "['g']\n",
            "[]\n",
            "128\n",
            "['Turkey', 'Pie', 'Stuffing']\n",
            "['Turkey', 'Pie']\n",
            "['Turkey', 'Stuffing']\n",
            "['Turkey']\n",
            "['Pie', 'Stuffing']\n",
            "['Pie']\n",
            "['Stuffing']\n",
            "[]\n",
            "8\n"
          ]
        }
      ]
    },
    {
      "cell_type": "markdown",
      "source": [
        "**Problem 2**"
      ],
      "metadata": {
        "id": "ZEEDbaLOSSPk"
      }
    },
    {
      "cell_type": "code",
      "source": [
        "def whosBringingWhat(dishes,friends,whosBringing={},taken=[]):\n",
        "  if len(friends)==len(whosBringing): #no more friends to give dishes\n",
        "    if \"Turkey\" in whosBringing.values() or not \"Gravy\" in whosBringing.values():\n",
        "      print(whosBringing) #prints the valid dish (doesn't have no turkey and no gravy)\n",
        "    return #ends this recursion/backtracking\n",
        "\n",
        "  friendNumber=friends[len(whosBringing)]\n",
        "  for dish in dishes:\n",
        "    if dish not in taken: #if the dish hasn't been taken yet\n",
        "      taken.append(dish) #says the dish has been taken\n",
        "      whosBringing[friendNumber]=dish #assigns the dish to a person\n",
        "      whosBringingWhat(dishes,friends,whosBringing,taken) #runs it again with this dish taken\n",
        "      taken.remove(dish) #dish is removed from the taken list\n",
        "      del whosBringing[friendNumber] #onto next friend\n",
        "  return\n",
        "\n",
        "friends = [\"Alice\", \"Bob\", \"Charlie\"]\n",
        "dishes = [\"Turkey\", \"Pie\", \"Gravy\"]\n",
        "whosBringingWhat(dishes,friends)\n"
      ],
      "metadata": {
        "colab": {
          "base_uri": "https://localhost:8080/"
        },
        "collapsed": true,
        "id": "zgz4IJ-_SeH_",
        "outputId": "090795ae-3d0e-41af-ad9a-38ad9d791a32"
      },
      "execution_count": 12,
      "outputs": [
        {
          "output_type": "stream",
          "name": "stdout",
          "text": [
            "{'Alice': 'Turkey', 'Bob': 'Pie', 'Charlie': 'Gravy'}\n",
            "{'Alice': 'Turkey', 'Bob': 'Gravy', 'Charlie': 'Pie'}\n",
            "{'Alice': 'Pie', 'Bob': 'Turkey', 'Charlie': 'Gravy'}\n",
            "{'Alice': 'Pie', 'Bob': 'Gravy', 'Charlie': 'Turkey'}\n",
            "{'Alice': 'Gravy', 'Bob': 'Turkey', 'Charlie': 'Pie'}\n",
            "{'Alice': 'Gravy', 'Bob': 'Pie', 'Charlie': 'Turkey'}\n"
          ]
        }
      ]
    },
    {
      "cell_type": "markdown",
      "source": [
        "**Reflection Questions**\n",
        "1) Recursion means less variables have to be used and simplifies complicated for loops into simpler recalls of the program.\n",
        "2) Returning lists instead of printing results means each option needs to return a list of the current option, and that each option is stored.\n",
        "3) Backtracking removes elements after exploring a path because not removing them creates an infinite loop where the program explores the path over and over again."
      ],
      "metadata": {
        "id": "vk3Lo04VSUV8"
      }
    }
  ]
}